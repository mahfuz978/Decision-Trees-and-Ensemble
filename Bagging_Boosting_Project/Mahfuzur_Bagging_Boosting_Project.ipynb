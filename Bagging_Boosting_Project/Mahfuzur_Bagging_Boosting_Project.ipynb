{
  "nbformat": 4,
  "nbformat_minor": 0,
  "metadata": {
    "kernelspec": {
      "display_name": "Python 3",
      "language": "python",
      "name": "python3"
    },
    "language_info": {
      "codemirror_mode": {
        "name": "ipython",
        "version": 3
      },
      "file_extension": ".py",
      "mimetype": "text/x-python",
      "name": "python",
      "nbconvert_exporter": "python",
      "pygments_lexer": "ipython3",
      "version": "3.8.3"
    },
    "colab": {
      "name": "Mahfuzur_Bagging_Boosting_Project.ipynb",
      "provenance": [],
      "collapsed_sections": [],
      "include_colab_link": true
    }
  },
  "cells": [
    {
      "cell_type": "markdown",
      "metadata": {
        "id": "view-in-github",
        "colab_type": "text"
      },
      "source": [
        "<a href=\"https://colab.research.google.com/github/mahfuz978/TECH-I.S.----DT-Ensemble/blob/main/Bagging_Boosting_Project/Mahfuzur_Bagging_Boosting_Project.ipynb\" target=\"_parent\"><img src=\"https://colab.research.google.com/assets/colab-badge.svg\" alt=\"Open In Colab\"/></a>"
      ]
    },
    {
      "cell_type": "markdown",
      "metadata": {
        "id": "7GBoIyS6GyxU"
      },
      "source": [
        "## Understanding the Business Problem\n",
        "TalkingData is a Chinese big data company, and one of their areas of expertise is mobile advertisements.\n",
        "\n",
        "In mobile advertisements, click fraud is a major source of losses. Click fraud is the practice of repeatedly clicking on an advertisement hosted on a website with the intention of generating revenue for the host website or draining revenue from the advertiser.\n",
        "\n",
        "In this case, TalkingData happens to be serving the advertisers (their clients). TalkingData cover a whopping approx. 70% of the active mobile devices in China, of which 90% are potentially fraudulent (i.e. the user is actually not going to download the app after clicking).\n",
        "\n",
        "You can imagine the amount of money they can help clients save if they are able to predict whether a given click is fraudulent (or equivalently, whether a given click will result in a download).\n",
        "\n",
        "Their current approach to solve this problem is that they've generated a blacklist of IP addresses - those IPs which produce lots of clicks, but never install any apps. Now, they want to try some advanced techniques to predict the probability of a click being genuine/fraud.\n",
        "\n",
        "In this problem, we will use the features associated with clicks, such as IP address, operating system, device type, time of click etc. to predict the probability of a click being fraud.\n",
        "\n"
      ]
    },
    {
      "cell_type": "markdown",
      "metadata": {
        "id": "npstTA7_Gyxc"
      },
      "source": [
        "# Project on Bagging and Boosting ensemble model:\n",
        "\n",
        "\n",
        "**The data contains observations of about 240 million clicks, and whether a given click resulted in a download or not (1/0):**\n",
        "\n",
        "The detailed data dictionary is mentioned here:\n",
        "- ```ip```: ip address of click.\n",
        "- ```app```: app id for marketing.\n",
        "- ```device```: device type id of user mobile phone (e.g., iphone 6 plus, iphone 7, huawei mate 7, etc.)\n",
        "- ```os```: os version id of user mobile phone\n",
        "- ```channel```: channel id of mobile ad publisher\n",
        "- ```click_time```: timestamp of click (UTC)\n",
        "- ```attributed_time```: if user download the app for after clicking an ad, this is the time of the app download\n",
        "- ```is_attributed```: the target that is to be predicted, indicating the app was downloaded\n",
        "\n",
        "Let's try finding some useful trends in the data.\n",
        "\n",
        "    **1. Explore the dataset for anomalies and missing values and take corrective actions if necessary.**\n",
        "\n",
        "    **2. Which column has maximum number of unique values present among all the available columns**\n",
        "\n",
        "    **3. Use an appropriate technique to get rid of all the apps that are very rare (say which comprise of less than 20% clicks) and plot the rest..** \n",
        "\n",
        "    **4. By using Pandas derive new features such as - 'day_of_week' , 'day_of_year' , 'month' , and 'hour' as float/int datatypes using the 'click_time' column . Add the newly derived columns in original dataset.**\n",
        "\n",
        "    **5. Divide the data into training and testing subsets into 80:20 ratio(Train_data = 80% , Testing_data = 20%) and\n",
        "         check the average download rates('is_attributed') for train and test data, scores should be comparable.**\n",
        "\n",
        "    **6. Apply XGBoostClassifier with default parameters on training data and make first 10 prediction for Test data. NOTE: Use y_pred = model.predict_proba(X_test) since we need probabilities to compute AUC.** \n",
        "\n",
        "    **7. On evaluating the predictions made by the model what is the AUC/ROC score with default hyperparameters.**\n",
        "\n",
        "    **8. Compute feature importance score and name the top 5 features/columns .**\n",
        "    \n",
        "    **9. Apply BaggingClassifier with base_estimator LogisticRegression and compute AUC/ROC score.\n",
        "    \n",
        "    **10.  On the basis of AUC/ROC score which one will you choose from BaggingClassifier and XGBoostClassifier and why?What does AUC/ROC score signifies?\n",
        "    \n",
        "    **11.  What is the accuracy for BaggingClassifier and XGBoostClassifier?()\n",
        " ### All the Best!!!"
      ]
    },
    {
      "cell_type": "code",
      "metadata": {
        "id": "K_qV-zzDGyxc"
      },
      "source": [
        "url = 'https://raw.githubusercontent.com/Tech-i-s/techis-ds-wiki/master/Step%203-3%20DT%20and%20Ensemble/03_Project/talking_data.csv?token=AM2M2N3SV3XMXPWSPKRT6MDAIKW4S'"
      ],
      "execution_count": 1,
      "outputs": []
    },
    {
      "cell_type": "code",
      "metadata": {
        "id": "NPiYjZD0Gyxd"
      },
      "source": [
        "import pandas as pd\r\n",
        "import numpy as np\r\n",
        "import matplotlib.pyplot as plt\r\n",
        "import seaborn as sns"
      ],
      "execution_count": 2,
      "outputs": []
    },
    {
      "cell_type": "code",
      "metadata": {
        "colab": {
          "base_uri": "https://localhost:8080/",
          "height": 203
        },
        "id": "3JmbIZUnHtQq",
        "outputId": "08b70dae-481b-4ee9-f292-235d3d23e09b"
      },
      "source": [
        "df = pd.read_csv(url)\r\n",
        "df.head()"
      ],
      "execution_count": 3,
      "outputs": [
        {
          "output_type": "execute_result",
          "data": {
            "text/html": [
              "<div>\n",
              "<style scoped>\n",
              "    .dataframe tbody tr th:only-of-type {\n",
              "        vertical-align: middle;\n",
              "    }\n",
              "\n",
              "    .dataframe tbody tr th {\n",
              "        vertical-align: top;\n",
              "    }\n",
              "\n",
              "    .dataframe thead th {\n",
              "        text-align: right;\n",
              "    }\n",
              "</style>\n",
              "<table border=\"1\" class=\"dataframe\">\n",
              "  <thead>\n",
              "    <tr style=\"text-align: right;\">\n",
              "      <th></th>\n",
              "      <th>ip</th>\n",
              "      <th>app</th>\n",
              "      <th>device</th>\n",
              "      <th>os</th>\n",
              "      <th>channel</th>\n",
              "      <th>click_time</th>\n",
              "      <th>attributed_time</th>\n",
              "      <th>is_attributed</th>\n",
              "    </tr>\n",
              "  </thead>\n",
              "  <tbody>\n",
              "    <tr>\n",
              "      <th>0</th>\n",
              "      <td>87540</td>\n",
              "      <td>12</td>\n",
              "      <td>1</td>\n",
              "      <td>13</td>\n",
              "      <td>497</td>\n",
              "      <td>2017-11-07 09:30:38</td>\n",
              "      <td>NaN</td>\n",
              "      <td>0</td>\n",
              "    </tr>\n",
              "    <tr>\n",
              "      <th>1</th>\n",
              "      <td>105560</td>\n",
              "      <td>25</td>\n",
              "      <td>1</td>\n",
              "      <td>17</td>\n",
              "      <td>259</td>\n",
              "      <td>2017-11-07 13:40:27</td>\n",
              "      <td>NaN</td>\n",
              "      <td>0</td>\n",
              "    </tr>\n",
              "    <tr>\n",
              "      <th>2</th>\n",
              "      <td>101424</td>\n",
              "      <td>12</td>\n",
              "      <td>1</td>\n",
              "      <td>19</td>\n",
              "      <td>212</td>\n",
              "      <td>2017-11-07 18:05:24</td>\n",
              "      <td>NaN</td>\n",
              "      <td>0</td>\n",
              "    </tr>\n",
              "    <tr>\n",
              "      <th>3</th>\n",
              "      <td>94584</td>\n",
              "      <td>13</td>\n",
              "      <td>1</td>\n",
              "      <td>13</td>\n",
              "      <td>477</td>\n",
              "      <td>2017-11-07 04:58:08</td>\n",
              "      <td>NaN</td>\n",
              "      <td>0</td>\n",
              "    </tr>\n",
              "    <tr>\n",
              "      <th>4</th>\n",
              "      <td>68413</td>\n",
              "      <td>12</td>\n",
              "      <td>1</td>\n",
              "      <td>1</td>\n",
              "      <td>178</td>\n",
              "      <td>2017-11-09 09:00:09</td>\n",
              "      <td>NaN</td>\n",
              "      <td>0</td>\n",
              "    </tr>\n",
              "  </tbody>\n",
              "</table>\n",
              "</div>"
            ],
            "text/plain": [
              "       ip  app  device  ...           click_time  attributed_time is_attributed\n",
              "0   87540   12       1  ...  2017-11-07 09:30:38              NaN             0\n",
              "1  105560   25       1  ...  2017-11-07 13:40:27              NaN             0\n",
              "2  101424   12       1  ...  2017-11-07 18:05:24              NaN             0\n",
              "3   94584   13       1  ...  2017-11-07 04:58:08              NaN             0\n",
              "4   68413   12       1  ...  2017-11-09 09:00:09              NaN             0\n",
              "\n",
              "[5 rows x 8 columns]"
            ]
          },
          "metadata": {
            "tags": []
          },
          "execution_count": 3
        }
      ]
    },
    {
      "cell_type": "code",
      "metadata": {
        "id": "LIlo3nEOIED6",
        "colab": {
          "base_uri": "https://localhost:8080/"
        },
        "outputId": "1f1b1433-f7ac-439c-fbdd-6f17c55920fa"
      },
      "source": [
        "df.isnull().sum()#attributed time has too many null values"
      ],
      "execution_count": 4,
      "outputs": [
        {
          "output_type": "execute_result",
          "data": {
            "text/plain": [
              "ip                     0\n",
              "app                    0\n",
              "device                 0\n",
              "os                     0\n",
              "channel                0\n",
              "click_time             0\n",
              "attributed_time    99773\n",
              "is_attributed          0\n",
              "dtype: int64"
            ]
          },
          "metadata": {
            "tags": []
          },
          "execution_count": 4
        }
      ]
    },
    {
      "cell_type": "code",
      "metadata": {
        "id": "t9yVfxi-QFOZ"
      },
      "source": [
        "df = df.drop(columns='attributed_time')#lets drop this column"
      ],
      "execution_count": 5,
      "outputs": []
    },
    {
      "cell_type": "code",
      "metadata": {
        "colab": {
          "base_uri": "https://localhost:8080/"
        },
        "id": "45iqFH3e0LmR",
        "outputId": "58887199-4b4e-4b77-9ba8-51235816b1d7"
      },
      "source": [
        "df.shape"
      ],
      "execution_count": 6,
      "outputs": [
        {
          "output_type": "execute_result",
          "data": {
            "text/plain": [
              "(100000, 7)"
            ]
          },
          "metadata": {
            "tags": []
          },
          "execution_count": 6
        }
      ]
    },
    {
      "cell_type": "code",
      "metadata": {
        "id": "b8n_dh_R0bLS",
        "colab": {
          "base_uri": "https://localhost:8080/"
        },
        "outputId": "f4a85574-ce02-47c1-a836-2c6c7156abf7"
      },
      "source": [
        "df.dtypes"
      ],
      "execution_count": 7,
      "outputs": [
        {
          "output_type": "execute_result",
          "data": {
            "text/plain": [
              "ip                int64\n",
              "app               int64\n",
              "device            int64\n",
              "os                int64\n",
              "channel           int64\n",
              "click_time       object\n",
              "is_attributed     int64\n",
              "dtype: object"
            ]
          },
          "metadata": {
            "tags": []
          },
          "execution_count": 7
        }
      ]
    },
    {
      "cell_type": "code",
      "metadata": {
        "colab": {
          "base_uri": "https://localhost:8080/"
        },
        "id": "ZfChsNU_dAgF",
        "outputId": "89b635d0-bb49-4f35-bf08-e5f8983f87d7"
      },
      "source": [
        "df.apply(pd.value_counts).count() # counting how many unique values in a column\r\n",
        "# looks like click time and ip has the top 2 unique items"
      ],
      "execution_count": 8,
      "outputs": [
        {
          "output_type": "execute_result",
          "data": {
            "text/plain": [
              "ip               34857\n",
              "app                161\n",
              "device             100\n",
              "os                 130\n",
              "channel            161\n",
              "click_time       80350\n",
              "is_attributed        2\n",
              "dtype: int64"
            ]
          },
          "metadata": {
            "tags": []
          },
          "execution_count": 8
        }
      ]
    },
    {
      "cell_type": "code",
      "metadata": {
        "id": "S8OVsfCF0y5N",
        "colab": {
          "base_uri": "https://localhost:8080/",
          "height": 203
        },
        "outputId": "643bdbfc-25c8-4383-bfd5-21d98d0b044f"
      },
      "source": [
        "df.head()"
      ],
      "execution_count": 9,
      "outputs": [
        {
          "output_type": "execute_result",
          "data": {
            "text/html": [
              "<div>\n",
              "<style scoped>\n",
              "    .dataframe tbody tr th:only-of-type {\n",
              "        vertical-align: middle;\n",
              "    }\n",
              "\n",
              "    .dataframe tbody tr th {\n",
              "        vertical-align: top;\n",
              "    }\n",
              "\n",
              "    .dataframe thead th {\n",
              "        text-align: right;\n",
              "    }\n",
              "</style>\n",
              "<table border=\"1\" class=\"dataframe\">\n",
              "  <thead>\n",
              "    <tr style=\"text-align: right;\">\n",
              "      <th></th>\n",
              "      <th>ip</th>\n",
              "      <th>app</th>\n",
              "      <th>device</th>\n",
              "      <th>os</th>\n",
              "      <th>channel</th>\n",
              "      <th>click_time</th>\n",
              "      <th>is_attributed</th>\n",
              "    </tr>\n",
              "  </thead>\n",
              "  <tbody>\n",
              "    <tr>\n",
              "      <th>0</th>\n",
              "      <td>87540</td>\n",
              "      <td>12</td>\n",
              "      <td>1</td>\n",
              "      <td>13</td>\n",
              "      <td>497</td>\n",
              "      <td>2017-11-07 09:30:38</td>\n",
              "      <td>0</td>\n",
              "    </tr>\n",
              "    <tr>\n",
              "      <th>1</th>\n",
              "      <td>105560</td>\n",
              "      <td>25</td>\n",
              "      <td>1</td>\n",
              "      <td>17</td>\n",
              "      <td>259</td>\n",
              "      <td>2017-11-07 13:40:27</td>\n",
              "      <td>0</td>\n",
              "    </tr>\n",
              "    <tr>\n",
              "      <th>2</th>\n",
              "      <td>101424</td>\n",
              "      <td>12</td>\n",
              "      <td>1</td>\n",
              "      <td>19</td>\n",
              "      <td>212</td>\n",
              "      <td>2017-11-07 18:05:24</td>\n",
              "      <td>0</td>\n",
              "    </tr>\n",
              "    <tr>\n",
              "      <th>3</th>\n",
              "      <td>94584</td>\n",
              "      <td>13</td>\n",
              "      <td>1</td>\n",
              "      <td>13</td>\n",
              "      <td>477</td>\n",
              "      <td>2017-11-07 04:58:08</td>\n",
              "      <td>0</td>\n",
              "    </tr>\n",
              "    <tr>\n",
              "      <th>4</th>\n",
              "      <td>68413</td>\n",
              "      <td>12</td>\n",
              "      <td>1</td>\n",
              "      <td>1</td>\n",
              "      <td>178</td>\n",
              "      <td>2017-11-09 09:00:09</td>\n",
              "      <td>0</td>\n",
              "    </tr>\n",
              "  </tbody>\n",
              "</table>\n",
              "</div>"
            ],
            "text/plain": [
              "       ip  app  device  os  channel           click_time  is_attributed\n",
              "0   87540   12       1  13      497  2017-11-07 09:30:38              0\n",
              "1  105560   25       1  17      259  2017-11-07 13:40:27              0\n",
              "2  101424   12       1  19      212  2017-11-07 18:05:24              0\n",
              "3   94584   13       1  13      477  2017-11-07 04:58:08              0\n",
              "4   68413   12       1   1      178  2017-11-09 09:00:09              0"
            ]
          },
          "metadata": {
            "tags": []
          },
          "execution_count": 9
        }
      ]
    },
    {
      "cell_type": "code",
      "metadata": {
        "id": "huNyBNaP0z7g",
        "colab": {
          "base_uri": "https://localhost:8080/"
        },
        "outputId": "ee3554c5-0a0c-471b-b4ad-4ddaee558567"
      },
      "source": [
        "df.is_attributed.value_counts()"
      ],
      "execution_count": 10,
      "outputs": [
        {
          "output_type": "execute_result",
          "data": {
            "text/plain": [
              "0    99773\n",
              "1      227\n",
              "Name: is_attributed, dtype: int64"
            ]
          },
          "metadata": {
            "tags": []
          },
          "execution_count": 10
        }
      ]
    },
    {
      "cell_type": "code",
      "metadata": {
        "id": "vrudVKmSgM-Y",
        "colab": {
          "base_uri": "https://localhost:8080/",
          "height": 203
        },
        "outputId": "69bb251c-aa09-44d5-acc1-ae2a66714d71"
      },
      "source": [
        "df.tail()"
      ],
      "execution_count": 11,
      "outputs": [
        {
          "output_type": "execute_result",
          "data": {
            "text/html": [
              "<div>\n",
              "<style scoped>\n",
              "    .dataframe tbody tr th:only-of-type {\n",
              "        vertical-align: middle;\n",
              "    }\n",
              "\n",
              "    .dataframe tbody tr th {\n",
              "        vertical-align: top;\n",
              "    }\n",
              "\n",
              "    .dataframe thead th {\n",
              "        text-align: right;\n",
              "    }\n",
              "</style>\n",
              "<table border=\"1\" class=\"dataframe\">\n",
              "  <thead>\n",
              "    <tr style=\"text-align: right;\">\n",
              "      <th></th>\n",
              "      <th>ip</th>\n",
              "      <th>app</th>\n",
              "      <th>device</th>\n",
              "      <th>os</th>\n",
              "      <th>channel</th>\n",
              "      <th>click_time</th>\n",
              "      <th>is_attributed</th>\n",
              "    </tr>\n",
              "  </thead>\n",
              "  <tbody>\n",
              "    <tr>\n",
              "      <th>99995</th>\n",
              "      <td>124883</td>\n",
              "      <td>11</td>\n",
              "      <td>1</td>\n",
              "      <td>19</td>\n",
              "      <td>122</td>\n",
              "      <td>2017-11-09 13:25:41</td>\n",
              "      <td>0</td>\n",
              "    </tr>\n",
              "    <tr>\n",
              "      <th>99996</th>\n",
              "      <td>85150</td>\n",
              "      <td>9</td>\n",
              "      <td>1</td>\n",
              "      <td>13</td>\n",
              "      <td>244</td>\n",
              "      <td>2017-11-07 11:25:43</td>\n",
              "      <td>0</td>\n",
              "    </tr>\n",
              "    <tr>\n",
              "      <th>99997</th>\n",
              "      <td>18839</td>\n",
              "      <td>3</td>\n",
              "      <td>1</td>\n",
              "      <td>13</td>\n",
              "      <td>19</td>\n",
              "      <td>2017-11-08 11:38:42</td>\n",
              "      <td>0</td>\n",
              "    </tr>\n",
              "    <tr>\n",
              "      <th>99998</th>\n",
              "      <td>114276</td>\n",
              "      <td>15</td>\n",
              "      <td>1</td>\n",
              "      <td>12</td>\n",
              "      <td>245</td>\n",
              "      <td>2017-11-08 17:55:21</td>\n",
              "      <td>0</td>\n",
              "    </tr>\n",
              "    <tr>\n",
              "      <th>99999</th>\n",
              "      <td>119349</td>\n",
              "      <td>14</td>\n",
              "      <td>1</td>\n",
              "      <td>15</td>\n",
              "      <td>401</td>\n",
              "      <td>2017-11-07 14:32:27</td>\n",
              "      <td>0</td>\n",
              "    </tr>\n",
              "  </tbody>\n",
              "</table>\n",
              "</div>"
            ],
            "text/plain": [
              "           ip  app  device  os  channel           click_time  is_attributed\n",
              "99995  124883   11       1  19      122  2017-11-09 13:25:41              0\n",
              "99996   85150    9       1  13      244  2017-11-07 11:25:43              0\n",
              "99997   18839    3       1  13       19  2017-11-08 11:38:42              0\n",
              "99998  114276   15       1  12      245  2017-11-08 17:55:21              0\n",
              "99999  119349   14       1  15      401  2017-11-07 14:32:27              0"
            ]
          },
          "metadata": {
            "tags": []
          },
          "execution_count": 11
        }
      ]
    },
    {
      "cell_type": "code",
      "metadata": {
        "id": "0cbb2WynHm5N"
      },
      "source": [
        "df['click_time'] = pd.to_datetime(df['click_time'])"
      ],
      "execution_count": 12,
      "outputs": []
    },
    {
      "cell_type": "code",
      "metadata": {
        "id": "0roXBue7Nanh",
        "colab": {
          "base_uri": "https://localhost:8080/"
        },
        "outputId": "71da2e1b-9f2d-490f-cded-173517176667"
      },
      "source": [
        "type(df['click_time'][0])"
      ],
      "execution_count": 13,
      "outputs": [
        {
          "output_type": "execute_result",
          "data": {
            "text/plain": [
              "pandas._libs.tslibs.timestamps.Timestamp"
            ]
          },
          "metadata": {
            "tags": []
          },
          "execution_count": 13
        }
      ]
    },
    {
      "cell_type": "code",
      "metadata": {
        "colab": {
          "base_uri": "https://localhost:8080/"
        },
        "id": "ZnXZJWle7I-W",
        "outputId": "0b83c56d-c605-449f-c7ee-54da3b37d309"
      },
      "source": [
        "df['app'].value_counts()[:31]  # these are the top apps"
      ],
      "execution_count": 14,
      "outputs": [
        {
          "output_type": "execute_result",
          "data": {
            "text/plain": [
              "3      18279\n",
              "12     13198\n",
              "2      11737\n",
              "9       8992\n",
              "15      8595\n",
              "18      8315\n",
              "14      5359\n",
              "1       3135\n",
              "13      2422\n",
              "8       2004\n",
              "21      1979\n",
              "11      1927\n",
              "26      1633\n",
              "23      1454\n",
              "6       1303\n",
              "64      1079\n",
              "7        981\n",
              "20       911\n",
              "25       804\n",
              "28       720\n",
              "24       704\n",
              "27       696\n",
              "19       478\n",
              "10       388\n",
              "22       386\n",
              "17       380\n",
              "29       360\n",
              "32       286\n",
              "5        188\n",
              "151      109\n",
              "36       102\n",
              "Name: app, dtype: int64"
            ]
          },
          "metadata": {
            "tags": []
          },
          "execution_count": 14
        }
      ]
    },
    {
      "cell_type": "code",
      "metadata": {
        "id": "xM4KPLDV7uxE"
      },
      "source": [
        "# top_apps = [] # make an empty list\r\n",
        "# x = df['app'].value_counts(ascending=False)[:16] # these are the top apps\r\n",
        "# x = list(x.index.values) # make it into a list so we can filter it out\r\n",
        "# top_apps.append(x)"
      ],
      "execution_count": 15,
      "outputs": []
    },
    {
      "cell_type": "code",
      "metadata": {
        "id": "RdZ7L6er4jHO"
      },
      "source": [
        "# top_apps = top_apps[0]\r\n",
        "# top_apps # these are the list of the top apps "
      ],
      "execution_count": 16,
      "outputs": []
    },
    {
      "cell_type": "code",
      "metadata": {
        "colab": {
          "base_uri": "https://localhost:8080/",
          "height": 203
        },
        "id": "Rtv1qbrN08rQ",
        "outputId": "a9c67878-1caa-458d-9567-72fe1537829e"
      },
      "source": [
        "df.head()"
      ],
      "execution_count": 17,
      "outputs": [
        {
          "output_type": "execute_result",
          "data": {
            "text/html": [
              "<div>\n",
              "<style scoped>\n",
              "    .dataframe tbody tr th:only-of-type {\n",
              "        vertical-align: middle;\n",
              "    }\n",
              "\n",
              "    .dataframe tbody tr th {\n",
              "        vertical-align: top;\n",
              "    }\n",
              "\n",
              "    .dataframe thead th {\n",
              "        text-align: right;\n",
              "    }\n",
              "</style>\n",
              "<table border=\"1\" class=\"dataframe\">\n",
              "  <thead>\n",
              "    <tr style=\"text-align: right;\">\n",
              "      <th></th>\n",
              "      <th>ip</th>\n",
              "      <th>app</th>\n",
              "      <th>device</th>\n",
              "      <th>os</th>\n",
              "      <th>channel</th>\n",
              "      <th>click_time</th>\n",
              "      <th>is_attributed</th>\n",
              "    </tr>\n",
              "  </thead>\n",
              "  <tbody>\n",
              "    <tr>\n",
              "      <th>0</th>\n",
              "      <td>87540</td>\n",
              "      <td>12</td>\n",
              "      <td>1</td>\n",
              "      <td>13</td>\n",
              "      <td>497</td>\n",
              "      <td>2017-11-07 09:30:38</td>\n",
              "      <td>0</td>\n",
              "    </tr>\n",
              "    <tr>\n",
              "      <th>1</th>\n",
              "      <td>105560</td>\n",
              "      <td>25</td>\n",
              "      <td>1</td>\n",
              "      <td>17</td>\n",
              "      <td>259</td>\n",
              "      <td>2017-11-07 13:40:27</td>\n",
              "      <td>0</td>\n",
              "    </tr>\n",
              "    <tr>\n",
              "      <th>2</th>\n",
              "      <td>101424</td>\n",
              "      <td>12</td>\n",
              "      <td>1</td>\n",
              "      <td>19</td>\n",
              "      <td>212</td>\n",
              "      <td>2017-11-07 18:05:24</td>\n",
              "      <td>0</td>\n",
              "    </tr>\n",
              "    <tr>\n",
              "      <th>3</th>\n",
              "      <td>94584</td>\n",
              "      <td>13</td>\n",
              "      <td>1</td>\n",
              "      <td>13</td>\n",
              "      <td>477</td>\n",
              "      <td>2017-11-07 04:58:08</td>\n",
              "      <td>0</td>\n",
              "    </tr>\n",
              "    <tr>\n",
              "      <th>4</th>\n",
              "      <td>68413</td>\n",
              "      <td>12</td>\n",
              "      <td>1</td>\n",
              "      <td>1</td>\n",
              "      <td>178</td>\n",
              "      <td>2017-11-09 09:00:09</td>\n",
              "      <td>0</td>\n",
              "    </tr>\n",
              "  </tbody>\n",
              "</table>\n",
              "</div>"
            ],
            "text/plain": [
              "       ip  app  device  os  channel          click_time  is_attributed\n",
              "0   87540   12       1  13      497 2017-11-07 09:30:38              0\n",
              "1  105560   25       1  17      259 2017-11-07 13:40:27              0\n",
              "2  101424   12       1  19      212 2017-11-07 18:05:24              0\n",
              "3   94584   13       1  13      477 2017-11-07 04:58:08              0\n",
              "4   68413   12       1   1      178 2017-11-09 09:00:09              0"
            ]
          },
          "metadata": {
            "tags": []
          },
          "execution_count": 17
        }
      ]
    },
    {
      "cell_type": "markdown",
      "metadata": {
        "id": "kvAmesDBqml2"
      },
      "source": [
        "## First Approach to dropping useless apps\r\n"
      ]
    },
    {
      "cell_type": "code",
      "metadata": {
        "id": "DJDgKtWq6hxe",
        "colab": {
          "base_uri": "https://localhost:8080/"
        },
        "outputId": "11cdb8c6-ac1f-4ab5-81df-17abdb9213cd"
      },
      "source": [
        "app_counts = df['app'].value_counts()\r\n",
        "app_counts# here we are trying to see which apps has the most counts"
      ],
      "execution_count": 18,
      "outputs": [
        {
          "output_type": "execute_result",
          "data": {
            "text/plain": [
              "3      18279\n",
              "12     13198\n",
              "2      11737\n",
              "9       8992\n",
              "15      8595\n",
              "       ...  \n",
              "407        1\n",
              "145        1\n",
              "271        1\n",
              "398        1\n",
              "92         1\n",
              "Name: app, Length: 161, dtype: int64"
            ]
          },
          "metadata": {
            "tags": []
          },
          "execution_count": 18
        }
      ]
    },
    {
      "cell_type": "code",
      "metadata": {
        "id": "5SkFOnmVWI0k",
        "colab": {
          "base_uri": "https://localhost:8080/"
        },
        "outputId": "0bf45c6b-5884-42bf-fd1f-ba448c847cbc"
      },
      "source": [
        "app_counts = app_counts[app_counts > 100]\r\n",
        "app_counts# I am only selecting the popular apps"
      ],
      "execution_count": 19,
      "outputs": [
        {
          "output_type": "execute_result",
          "data": {
            "text/plain": [
              "3      18279\n",
              "12     13198\n",
              "2      11737\n",
              "9       8992\n",
              "15      8595\n",
              "18      8315\n",
              "14      5359\n",
              "1       3135\n",
              "13      2422\n",
              "8       2004\n",
              "21      1979\n",
              "11      1927\n",
              "26      1633\n",
              "23      1454\n",
              "6       1303\n",
              "64      1079\n",
              "7        981\n",
              "20       911\n",
              "25       804\n",
              "28       720\n",
              "24       704\n",
              "27       696\n",
              "19       478\n",
              "10       388\n",
              "22       386\n",
              "17       380\n",
              "29       360\n",
              "32       286\n",
              "5        188\n",
              "151      109\n",
              "36       102\n",
              "Name: app, dtype: int64"
            ]
          },
          "metadata": {
            "tags": []
          },
          "execution_count": 19
        }
      ]
    },
    {
      "cell_type": "code",
      "metadata": {
        "id": "YhoFHjZ6WkZ0"
      },
      "source": [
        "req_apps = app_counts.index # we are calling the index so we can grab the apps"
      ],
      "execution_count": 20,
      "outputs": []
    },
    {
      "cell_type": "code",
      "metadata": {
        "colab": {
          "base_uri": "https://localhost:8080/"
        },
        "id": "cQ14EDdzWs44",
        "outputId": "34b2712a-8829-4764-a585-e2d6a2872d2d"
      },
      "source": [
        "req_apps"
      ],
      "execution_count": 21,
      "outputs": [
        {
          "output_type": "execute_result",
          "data": {
            "text/plain": [
              "Int64Index([  3,  12,   2,   9,  15,  18,  14,   1,  13,   8,  21,  11,  26,\n",
              "             23,   6,  64,   7,  20,  25,  28,  24,  27,  19,  10,  22,  17,\n",
              "             29,  32,   5, 151,  36],\n",
              "           dtype='int64')"
            ]
          },
          "metadata": {
            "tags": []
          },
          "execution_count": 21
        }
      ]
    },
    {
      "cell_type": "code",
      "metadata": {
        "id": "DV_5rhyjWuLB"
      },
      "source": [
        "filtered_df = [] # empty list\r\n",
        "for app_id in req_apps:\r\n",
        "  filtered_df.append(df.loc[df['app']==app_id])# only appends the columns with included apps\r\n",
        "# after appending we need to attach all the dataframes together\r\n",
        "df_final = pd.concat(filtered_df)"
      ],
      "execution_count": 22,
      "outputs": []
    },
    {
      "cell_type": "code",
      "metadata": {
        "colab": {
          "base_uri": "https://localhost:8080/",
          "height": 203
        },
        "id": "ihc3NJMuXVJN",
        "outputId": "efd0db64-fb2b-4ec0-8802-4b719473c31e"
      },
      "source": [
        "df_final.head()# here is the final df"
      ],
      "execution_count": 23,
      "outputs": [
        {
          "output_type": "execute_result",
          "data": {
            "text/html": [
              "<div>\n",
              "<style scoped>\n",
              "    .dataframe tbody tr th:only-of-type {\n",
              "        vertical-align: middle;\n",
              "    }\n",
              "\n",
              "    .dataframe tbody tr th {\n",
              "        vertical-align: top;\n",
              "    }\n",
              "\n",
              "    .dataframe thead th {\n",
              "        text-align: right;\n",
              "    }\n",
              "</style>\n",
              "<table border=\"1\" class=\"dataframe\">\n",
              "  <thead>\n",
              "    <tr style=\"text-align: right;\">\n",
              "      <th></th>\n",
              "      <th>ip</th>\n",
              "      <th>app</th>\n",
              "      <th>device</th>\n",
              "      <th>os</th>\n",
              "      <th>channel</th>\n",
              "      <th>click_time</th>\n",
              "      <th>is_attributed</th>\n",
              "    </tr>\n",
              "  </thead>\n",
              "  <tbody>\n",
              "    <tr>\n",
              "      <th>5</th>\n",
              "      <td>93663</td>\n",
              "      <td>3</td>\n",
              "      <td>1</td>\n",
              "      <td>17</td>\n",
              "      <td>115</td>\n",
              "      <td>2017-11-09 01:22:13</td>\n",
              "      <td>0</td>\n",
              "    </tr>\n",
              "    <tr>\n",
              "      <th>9</th>\n",
              "      <td>143636</td>\n",
              "      <td>3</td>\n",
              "      <td>1</td>\n",
              "      <td>19</td>\n",
              "      <td>135</td>\n",
              "      <td>2017-11-08 12:35:26</td>\n",
              "      <td>0</td>\n",
              "    </tr>\n",
              "    <tr>\n",
              "      <th>10</th>\n",
              "      <td>73839</td>\n",
              "      <td>3</td>\n",
              "      <td>1</td>\n",
              "      <td>22</td>\n",
              "      <td>489</td>\n",
              "      <td>2017-11-08 08:14:37</td>\n",
              "      <td>0</td>\n",
              "    </tr>\n",
              "    <tr>\n",
              "      <th>11</th>\n",
              "      <td>34812</td>\n",
              "      <td>3</td>\n",
              "      <td>1</td>\n",
              "      <td>13</td>\n",
              "      <td>489</td>\n",
              "      <td>2017-11-07 05:03:14</td>\n",
              "      <td>0</td>\n",
              "    </tr>\n",
              "    <tr>\n",
              "      <th>12</th>\n",
              "      <td>114809</td>\n",
              "      <td>3</td>\n",
              "      <td>1</td>\n",
              "      <td>22</td>\n",
              "      <td>205</td>\n",
              "      <td>2017-11-09 10:24:23</td>\n",
              "      <td>0</td>\n",
              "    </tr>\n",
              "  </tbody>\n",
              "</table>\n",
              "</div>"
            ],
            "text/plain": [
              "        ip  app  device  os  channel          click_time  is_attributed\n",
              "5    93663    3       1  17      115 2017-11-09 01:22:13              0\n",
              "9   143636    3       1  19      135 2017-11-08 12:35:26              0\n",
              "10   73839    3       1  22      489 2017-11-08 08:14:37              0\n",
              "11   34812    3       1  13      489 2017-11-07 05:03:14              0\n",
              "12  114809    3       1  22      205 2017-11-09 10:24:23              0"
            ]
          },
          "metadata": {
            "tags": []
          },
          "execution_count": 23
        }
      ]
    },
    {
      "cell_type": "code",
      "metadata": {
        "colab": {
          "base_uri": "https://localhost:8080/"
        },
        "id": "afUJ70BEZOzq",
        "outputId": "0715b9aa-bae8-4330-ea52-f01deaa09c00"
      },
      "source": [
        "df_final.shape"
      ],
      "execution_count": 24,
      "outputs": [
        {
          "output_type": "execute_result",
          "data": {
            "text/plain": [
              "(98904, 7)"
            ]
          },
          "metadata": {
            "tags": []
          },
          "execution_count": 24
        }
      ]
    },
    {
      "cell_type": "code",
      "metadata": {
        "colab": {
          "base_uri": "https://localhost:8080/"
        },
        "id": "Dl0I-jt_ZVK7",
        "outputId": "03bd28c7-4c54-4cdd-a19b-fd995249c366"
      },
      "source": [
        "df_final.info()"
      ],
      "execution_count": 25,
      "outputs": [
        {
          "output_type": "stream",
          "text": [
            "<class 'pandas.core.frame.DataFrame'>\n",
            "Int64Index: 98904 entries, 5 to 97687\n",
            "Data columns (total 7 columns):\n",
            " #   Column         Non-Null Count  Dtype         \n",
            "---  ------         --------------  -----         \n",
            " 0   ip             98904 non-null  int64         \n",
            " 1   app            98904 non-null  int64         \n",
            " 2   device         98904 non-null  int64         \n",
            " 3   os             98904 non-null  int64         \n",
            " 4   channel        98904 non-null  int64         \n",
            " 5   click_time     98904 non-null  datetime64[ns]\n",
            " 6   is_attributed  98904 non-null  int64         \n",
            "dtypes: datetime64[ns](1), int64(6)\n",
            "memory usage: 6.0 MB\n"
          ],
          "name": "stdout"
        }
      ]
    },
    {
      "cell_type": "markdown",
      "metadata": {
        "id": "aTEvJGcgsE9u"
      },
      "source": [
        "## My second Approach"
      ]
    },
    {
      "cell_type": "code",
      "metadata": {
        "id": "3W-nkSAHZaUd"
      },
      "source": [
        "# function to filter the apps\r\n",
        "def app_filter(app_id):\r\n",
        "  if app_id in req_apps:\r\n",
        "    return app_id\r\n",
        "  else:\r\n",
        "    return np.nan # if the app is not a popular app then use nan\r\n",
        "df['app'] = df['app'].apply(app_filter)"
      ],
      "execution_count": 26,
      "outputs": []
    },
    {
      "cell_type": "code",
      "metadata": {
        "colab": {
          "base_uri": "https://localhost:8080/"
        },
        "id": "_Xgeg4rJabEa",
        "outputId": "6a649460-5ff6-47cb-a702-84c20fd491fc"
      },
      "source": [
        "df.info()"
      ],
      "execution_count": 27,
      "outputs": [
        {
          "output_type": "stream",
          "text": [
            "<class 'pandas.core.frame.DataFrame'>\n",
            "RangeIndex: 100000 entries, 0 to 99999\n",
            "Data columns (total 7 columns):\n",
            " #   Column         Non-Null Count   Dtype         \n",
            "---  ------         --------------   -----         \n",
            " 0   ip             100000 non-null  int64         \n",
            " 1   app            98904 non-null   float64       \n",
            " 2   device         100000 non-null  int64         \n",
            " 3   os             100000 non-null  int64         \n",
            " 4   channel        100000 non-null  int64         \n",
            " 5   click_time     100000 non-null  datetime64[ns]\n",
            " 6   is_attributed  100000 non-null  int64         \n",
            "dtypes: datetime64[ns](1), float64(1), int64(5)\n",
            "memory usage: 5.3 MB\n"
          ],
          "name": "stdout"
        }
      ]
    },
    {
      "cell_type": "code",
      "metadata": {
        "id": "bqdTv768ad_d"
      },
      "source": [
        "df = df.dropna() # its easy to drop the nan"
      ],
      "execution_count": 28,
      "outputs": []
    },
    {
      "cell_type": "code",
      "metadata": {
        "colab": {
          "base_uri": "https://localhost:8080/"
        },
        "id": "LuJ_qky2a0mi",
        "outputId": "32a5e296-b298-4118-fb6f-f01d0fd71bc2"
      },
      "source": [
        "df.shape"
      ],
      "execution_count": 29,
      "outputs": [
        {
          "output_type": "execute_result",
          "data": {
            "text/plain": [
              "(98904, 7)"
            ]
          },
          "metadata": {
            "tags": []
          },
          "execution_count": 29
        }
      ]
    },
    {
      "cell_type": "code",
      "metadata": {
        "colab": {
          "base_uri": "https://localhost:8080/"
        },
        "id": "fgykxPefa4Cn",
        "outputId": "98538352-df06-49d9-fc37-9db1e14f3ad8"
      },
      "source": [
        "df.info()"
      ],
      "execution_count": 30,
      "outputs": [
        {
          "output_type": "stream",
          "text": [
            "<class 'pandas.core.frame.DataFrame'>\n",
            "Int64Index: 98904 entries, 0 to 99999\n",
            "Data columns (total 7 columns):\n",
            " #   Column         Non-Null Count  Dtype         \n",
            "---  ------         --------------  -----         \n",
            " 0   ip             98904 non-null  int64         \n",
            " 1   app            98904 non-null  float64       \n",
            " 2   device         98904 non-null  int64         \n",
            " 3   os             98904 non-null  int64         \n",
            " 4   channel        98904 non-null  int64         \n",
            " 5   click_time     98904 non-null  datetime64[ns]\n",
            " 6   is_attributed  98904 non-null  int64         \n",
            "dtypes: datetime64[ns](1), float64(1), int64(5)\n",
            "memory usage: 6.0 MB\n"
          ],
          "name": "stdout"
        }
      ]
    },
    {
      "cell_type": "code",
      "metadata": {
        "colab": {
          "base_uri": "https://localhost:8080/",
          "height": 203
        },
        "id": "tpADBIwha6Qx",
        "outputId": "c18135ba-975b-4460-cf34-9171cc0b0e10"
      },
      "source": [
        "# let's feature engineer the new features for date time\r\n",
        "df['day_of_week'] = df['click_time'].apply(lambda x: x.dayofweek)\r\n",
        "df['day_of_year'] = df['click_time'].apply(lambda x: x.dayofyear)\r\n",
        "df['month'] = df['click_time'].apply(lambda x: x.month)\r\n",
        "df['hour'] = df['click_time'].apply(lambda x: x.hour)\r\n",
        "df = df.drop('click_time', axis = 1) # dropping the click time column since we have everything\r\n",
        "df['app'] = df['app'].astype('int64') # converting app to int since it turned into a float from our nan values\r\n",
        "df.head()"
      ],
      "execution_count": 31,
      "outputs": [
        {
          "output_type": "execute_result",
          "data": {
            "text/html": [
              "<div>\n",
              "<style scoped>\n",
              "    .dataframe tbody tr th:only-of-type {\n",
              "        vertical-align: middle;\n",
              "    }\n",
              "\n",
              "    .dataframe tbody tr th {\n",
              "        vertical-align: top;\n",
              "    }\n",
              "\n",
              "    .dataframe thead th {\n",
              "        text-align: right;\n",
              "    }\n",
              "</style>\n",
              "<table border=\"1\" class=\"dataframe\">\n",
              "  <thead>\n",
              "    <tr style=\"text-align: right;\">\n",
              "      <th></th>\n",
              "      <th>ip</th>\n",
              "      <th>app</th>\n",
              "      <th>device</th>\n",
              "      <th>os</th>\n",
              "      <th>channel</th>\n",
              "      <th>is_attributed</th>\n",
              "      <th>day_of_week</th>\n",
              "      <th>day_of_year</th>\n",
              "      <th>month</th>\n",
              "      <th>hour</th>\n",
              "    </tr>\n",
              "  </thead>\n",
              "  <tbody>\n",
              "    <tr>\n",
              "      <th>0</th>\n",
              "      <td>87540</td>\n",
              "      <td>12</td>\n",
              "      <td>1</td>\n",
              "      <td>13</td>\n",
              "      <td>497</td>\n",
              "      <td>0</td>\n",
              "      <td>1</td>\n",
              "      <td>311</td>\n",
              "      <td>11</td>\n",
              "      <td>9</td>\n",
              "    </tr>\n",
              "    <tr>\n",
              "      <th>1</th>\n",
              "      <td>105560</td>\n",
              "      <td>25</td>\n",
              "      <td>1</td>\n",
              "      <td>17</td>\n",
              "      <td>259</td>\n",
              "      <td>0</td>\n",
              "      <td>1</td>\n",
              "      <td>311</td>\n",
              "      <td>11</td>\n",
              "      <td>13</td>\n",
              "    </tr>\n",
              "    <tr>\n",
              "      <th>2</th>\n",
              "      <td>101424</td>\n",
              "      <td>12</td>\n",
              "      <td>1</td>\n",
              "      <td>19</td>\n",
              "      <td>212</td>\n",
              "      <td>0</td>\n",
              "      <td>1</td>\n",
              "      <td>311</td>\n",
              "      <td>11</td>\n",
              "      <td>18</td>\n",
              "    </tr>\n",
              "    <tr>\n",
              "      <th>3</th>\n",
              "      <td>94584</td>\n",
              "      <td>13</td>\n",
              "      <td>1</td>\n",
              "      <td>13</td>\n",
              "      <td>477</td>\n",
              "      <td>0</td>\n",
              "      <td>1</td>\n",
              "      <td>311</td>\n",
              "      <td>11</td>\n",
              "      <td>4</td>\n",
              "    </tr>\n",
              "    <tr>\n",
              "      <th>4</th>\n",
              "      <td>68413</td>\n",
              "      <td>12</td>\n",
              "      <td>1</td>\n",
              "      <td>1</td>\n",
              "      <td>178</td>\n",
              "      <td>0</td>\n",
              "      <td>3</td>\n",
              "      <td>313</td>\n",
              "      <td>11</td>\n",
              "      <td>9</td>\n",
              "    </tr>\n",
              "  </tbody>\n",
              "</table>\n",
              "</div>"
            ],
            "text/plain": [
              "       ip  app  device  os  ...  day_of_week  day_of_year  month  hour\n",
              "0   87540   12       1  13  ...            1          311     11     9\n",
              "1  105560   25       1  17  ...            1          311     11    13\n",
              "2  101424   12       1  19  ...            1          311     11    18\n",
              "3   94584   13       1  13  ...            1          311     11     4\n",
              "4   68413   12       1   1  ...            3          313     11     9\n",
              "\n",
              "[5 rows x 10 columns]"
            ]
          },
          "metadata": {
            "tags": []
          },
          "execution_count": 31
        }
      ]
    },
    {
      "cell_type": "code",
      "metadata": {
        "colab": {
          "base_uri": "https://localhost:8080/",
          "height": 422
        },
        "id": "HSNwkfzC3swt",
        "outputId": "bd82beb2-a2ec-4944-fcdb-33d6c82a83ad"
      },
      "source": [
        "import seaborn as sns\r\n",
        "import matplotlib.pyplot as plt\r\n",
        "sns.catplot(x = 'app',kind = 'count', data=df, aspect=1.9)\r\n",
        "plt.title('Top Apps', fontsize = 20)\r\n",
        "plt.xlabel('APP NUMBER')\r\n",
        ";"
      ],
      "execution_count": 32,
      "outputs": [
        {
          "output_type": "execute_result",
          "data": {
            "application/vnd.google.colaboratory.intrinsic+json": {
              "type": "string"
            },
            "text/plain": [
              "''"
            ]
          },
          "metadata": {
            "tags": []
          },
          "execution_count": 32
        },
        {
          "output_type": "display_data",
          "data": {
            "image/png": "[encoded data removed]",
            "text/plain": [
              "<Figure size 684x360 with 1 Axes>"
            ]
          },
          "metadata": {
            "tags": [],
            "needs_background": "light"
          }
        }
      ]
    },
    {
      "cell_type": "code",
      "metadata": {
        "colab": {
          "base_uri": "https://localhost:8080/"
        },
        "id": "W1MyUP3vcemw",
        "outputId": "4a52c094-e217-4245-e554-dde0df8bca20"
      },
      "source": [
        "from sklearn.model_selection import train_test_split\r\n",
        "train, test = train_test_split(df, test_size = .2, random_state = 42)\r\n",
        "print(train.shape)\r\n",
        "print(test.shape)"
      ],
      "execution_count": 33,
      "outputs": [
        {
          "output_type": "stream",
          "text": [
            "(79123, 10)\n",
            "(19781, 10)\n"
          ],
          "name": "stdout"
        }
      ]
    },
    {
      "cell_type": "code",
      "metadata": {
        "id": "Pu5shx45qXf_"
      },
      "source": [
        "x_train = train.drop(['is_attributed'], axis=1)\r\n",
        "y_train = train['is_attributed']\r\n",
        "x_test = test.drop(['is_attributed'], axis=1)\r\n",
        "y_test = test['is_attributed']"
      ],
      "execution_count": 34,
      "outputs": []
    },
    {
      "cell_type": "code",
      "metadata": {
        "colab": {
          "base_uri": "https://localhost:8080/"
        },
        "id": "1q4yEg4pJey2",
        "outputId": "0b507675-7a76-447e-b509-e05c2ca23553"
      },
      "source": [
        "x_train.shape, y_train.shape"
      ],
      "execution_count": 35,
      "outputs": [
        {
          "output_type": "execute_result",
          "data": {
            "text/plain": [
              "((79123, 9), (79123,))"
            ]
          },
          "metadata": {
            "tags": []
          },
          "execution_count": 35
        }
      ]
    },
    {
      "cell_type": "code",
      "metadata": {
        "colab": {
          "base_uri": "https://localhost:8080/"
        },
        "id": "1-NoF1fnJrQH",
        "outputId": "2db798fb-c603-4fd4-f345-1c5b8fd61dce"
      },
      "source": [
        "x_test.shape, y_test.shape"
      ],
      "execution_count": 36,
      "outputs": [
        {
          "output_type": "execute_result",
          "data": {
            "text/plain": [
              "((19781, 9), (19781,))"
            ]
          },
          "metadata": {
            "tags": []
          },
          "execution_count": 36
        }
      ]
    },
    {
      "cell_type": "code",
      "metadata": {
        "colab": {
          "base_uri": "https://localhost:8080/"
        },
        "id": "xL0At8ISBKbs",
        "outputId": "e2d0148b-1186-4b48-b6c3-b0315f26d421"
      },
      "source": [
        "from sklearn.model_selection import KFold\r\n",
        "kf = KFold(n_splits = 3)\r\n",
        "kf"
      ],
      "execution_count": 37,
      "outputs": [
        {
          "output_type": "execute_result",
          "data": {
            "text/plain": [
              "KFold(n_splits=3, random_state=None, shuffle=False)"
            ]
          },
          "metadata": {
            "tags": []
          },
          "execution_count": 37
        }
      ]
    },
    {
      "cell_type": "code",
      "metadata": {
        "id": "oUV9fM4KtKld"
      },
      "source": [
        "def get_score(model, x_train, x_test, y_train, y_test):\r\n",
        "  model.fit(x_train, y_train)\r\n",
        "  return model.score(x_test, y_test)"
      ],
      "execution_count": 38,
      "outputs": []
    },
    {
      "cell_type": "code",
      "metadata": {
        "colab": {
          "base_uri": "https://localhost:8080/"
        },
        "id": "jY2f-9kUBx8l",
        "outputId": "db97c093-c734-4930-a86a-0abdcf1b0df6"
      },
      "source": [
        "from sklearn.ensemble import RandomForestClassifier, AdaBoostClassifier, BaggingClassifier, GradientBoostingClassifier  \r\n",
        "rfcl = RandomForestClassifier(criterion = 'entropy', class_weight = {0:.5, 1:.5}, max_depth = 5, min_samples_leaf = 5)\r\n",
        "rfcl"
      ],
      "execution_count": 39,
      "outputs": [
        {
          "output_type": "execute_result",
          "data": {
            "text/plain": [
              "RandomForestClassifier(bootstrap=True, ccp_alpha=0.0,\n",
              "                       class_weight={0: 0.5, 1: 0.5}, criterion='entropy',\n",
              "                       max_depth=5, max_features='auto', max_leaf_nodes=None,\n",
              "                       max_samples=None, min_impurity_decrease=0.0,\n",
              "                       min_impurity_split=None, min_samples_leaf=5,\n",
              "                       min_samples_split=2, min_weight_fraction_leaf=0.0,\n",
              "                       n_estimators=100, n_jobs=None, oob_score=False,\n",
              "                       random_state=None, verbose=0, warm_start=False)"
            ]
          },
          "metadata": {
            "tags": []
          },
          "execution_count": 39
        }
      ]
    },
    {
      "cell_type": "code",
      "metadata": {
        "colab": {
          "base_uri": "https://localhost:8080/"
        },
        "id": "wTqO9MMWM2P6",
        "outputId": "dc394730-e0e9-4d53-fdeb-d38f9c3732d0"
      },
      "source": [
        "rfcl.fit(x_train, y_train)\r\n",
        "rfcl.predict(x_test)"
      ],
      "execution_count": 40,
      "outputs": [
        {
          "output_type": "execute_result",
          "data": {
            "text/plain": [
              "array([0, 0, 0, ..., 0, 0, 0])"
            ]
          },
          "metadata": {
            "tags": []
          },
          "execution_count": 40
        }
      ]
    },
    {
      "cell_type": "code",
      "metadata": {
        "colab": {
          "base_uri": "https://localhost:8080/"
        },
        "id": "RnzuqM3BBlc9",
        "outputId": "29aece13-2c99-47c4-ec7a-c5afb2e94cf2"
      },
      "source": [
        "get_score(rfcl, x_train, x_test, y_train, y_test)"
      ],
      "execution_count": 41,
      "outputs": [
        {
          "output_type": "execute_result",
          "data": {
            "text/plain": [
              "0.9985339467165462"
            ]
          },
          "metadata": {
            "tags": []
          },
          "execution_count": 41
        }
      ]
    },
    {
      "cell_type": "code",
      "metadata": {
        "colab": {
          "base_uri": "https://localhost:8080/"
        },
        "id": "EJhSBB3lG-Cs",
        "outputId": "d598d55c-d916-4184-db84-8bd4b38602aa"
      },
      "source": [
        "from xgboost import XGBClassifier\r\n",
        "xgb = XGBClassifier()\r\n",
        "xgb.fit(x_train, y_train)"
      ],
      "execution_count": 42,
      "outputs": [
        {
          "output_type": "execute_result",
          "data": {
            "text/plain": [
              "XGBClassifier(base_score=0.5, booster='gbtree', colsample_bylevel=1,\n",
              "              colsample_bynode=1, colsample_bytree=1, gamma=0,\n",
              "              learning_rate=0.1, max_delta_step=0, max_depth=3,\n",
              "              min_child_weight=1, missing=None, n_estimators=100, n_jobs=1,\n",
              "              nthread=None, objective='binary:logistic', random_state=0,\n",
              "              reg_alpha=0, reg_lambda=1, scale_pos_weight=1, seed=None,\n",
              "              silent=None, subsample=1, verbosity=1)"
            ]
          },
          "metadata": {
            "tags": []
          },
          "execution_count": 42
        }
      ]
    },
    {
      "cell_type": "code",
      "metadata": {
        "colab": {
          "base_uri": "https://localhost:8080/"
        },
        "id": "XDet6TfgPnyN",
        "outputId": "ab559cfa-8c2f-47c8-d1cb-6bf5db361be3"
      },
      "source": [
        "get_score(xgb, x_train, x_test, y_train, y_test)"
      ],
      "execution_count": 43,
      "outputs": [
        {
          "output_type": "execute_result",
          "data": {
            "text/plain": [
              "0.9986856074010414"
            ]
          },
          "metadata": {
            "tags": []
          },
          "execution_count": 43
        }
      ]
    },
    {
      "cell_type": "code",
      "metadata": {
        "id": "9hmlQEkUs1-t"
      },
      "source": [
        "pred = xgb.predict(x_test)\r\n"
      ],
      "execution_count": 44,
      "outputs": []
    },
    {
      "cell_type": "code",
      "metadata": {
        "colab": {
          "base_uri": "https://localhost:8080/"
        },
        "id": "6wZsjrGzRO5f",
        "outputId": "f5f5f9c3-fbee-4afa-a296-07b52205d6e9"
      },
      "source": [
        "xgb.predict_proba(x_test)"
      ],
      "execution_count": 74,
      "outputs": [
        {
          "output_type": "execute_result",
          "data": {
            "text/plain": [
              "array([[9.9987555e-01, 1.2443757e-04],\n",
              "       [9.9970245e-01, 2.9757238e-04],\n",
              "       [9.9969369e-01, 3.0628979e-04],\n",
              "       ...,\n",
              "       [9.9977446e-01, 2.2552320e-04],\n",
              "       [9.9938184e-01, 6.1815314e-04],\n",
              "       [9.9969941e-01, 3.0058855e-04]], dtype=float32)"
            ]
          },
          "metadata": {
            "tags": []
          },
          "execution_count": 74
        }
      ]
    },
    {
      "cell_type": "code",
      "metadata": {
        "id": "cfJE4twVQjSQ"
      },
      "source": [
        "y_pred = xgb.predict_proba(x_test)"
      ],
      "execution_count": 45,
      "outputs": []
    },
    {
      "cell_type": "code",
      "metadata": {
        "colab": {
          "base_uri": "https://localhost:8080/"
        },
        "id": "_WroD6KrszDG",
        "outputId": "51901eb4-2a16-40a8-9725-2aa363dc124b"
      },
      "source": [
        "y_pred = y_pred[:,1] # keep the positives\r\n",
        "y_pred"
      ],
      "execution_count": 46,
      "outputs": [
        {
          "output_type": "execute_result",
          "data": {
            "text/plain": [
              "array([0.00012444, 0.00029757, 0.00030629, ..., 0.00022552, 0.00061815,\n",
              "       0.00030059], dtype=float32)"
            ]
          },
          "metadata": {
            "tags": []
          },
          "execution_count": 46
        }
      ]
    },
    {
      "cell_type": "code",
      "metadata": {
        "colab": {
          "base_uri": "https://localhost:8080/"
        },
        "id": "K3GswxVpqa4d",
        "outputId": "1d50d4dc-4cca-47d8-e649-73392411cf48"
      },
      "source": [
        "from sklearn.metrics import roc_auc_score, roc_curve\r\n",
        "# calculate scores\r\n",
        "auc = roc_auc_score(y_test, y_pred)\r\n",
        "# summarize scores\r\n",
        "print('XGB: ROC AUC=%.3f' % (auc))"
      ],
      "execution_count": 47,
      "outputs": [
        {
          "output_type": "stream",
          "text": [
            "XGB: ROC AUC=0.916\n"
          ],
          "name": "stdout"
        }
      ]
    },
    {
      "cell_type": "code",
      "metadata": {
        "colab": {
          "base_uri": "https://localhost:8080/"
        },
        "id": "R0ccwbnvZcht",
        "outputId": "352f50a6-4060-4081-c9a5-f49cba36cc28"
      },
      "source": [
        "from sklearn.metrics import accuracy_score\r\n",
        "xgb_acc_score = accuracy_score(y_test, pred)\r\n",
        "xgb_acc_score"
      ],
      "execution_count": 48,
      "outputs": [
        {
          "output_type": "execute_result",
          "data": {
            "text/plain": [
              "0.9986856074010414"
            ]
          },
          "metadata": {
            "tags": []
          },
          "execution_count": 48
        }
      ]
    },
    {
      "cell_type": "code",
      "metadata": {
        "id": "JZt1t6gK5m6l",
        "colab": {
          "base_uri": "https://localhost:8080/"
        },
        "outputId": "ea598737-6f8b-4d3e-d3be-2eacfd23d591"
      },
      "source": [
        "# calculate roc curves\r\n",
        "fpr, tpr , threshold = roc_curve(y_test, y_pred)\r\n",
        "print(fpr,tpr,threshold)"
      ],
      "execution_count": 49,
      "outputs": [
        {
          "output_type": "stream",
          "text": [
            "[0.         0.         0.         ... 0.99858242 0.99969623 1.        ] [0.         0.03448276 0.17241379 ... 1.         1.         1.        ] [1.84776664e+00 8.47766578e-01 4.68124211e-01 ... 1.03486462e-04\n",
            " 1.02134836e-04 8.86479902e-05]\n"
          ],
          "name": "stdout"
        }
      ]
    },
    {
      "cell_type": "code",
      "metadata": {
        "colab": {
          "base_uri": "https://localhost:8080/",
          "height": 265
        },
        "id": "0UJBB-lz5BZT",
        "outputId": "6ac1c7a7-1ee6-44bf-a100-1700b64ad7de"
      },
      "source": [
        "plt.plot(fpr,tpr, linestyle='--', label='XGB');"
      ],
      "execution_count": 50,
      "outputs": [
        {
          "output_type": "display_data",
          "data": {
            "image/png": "[encoded data removed]",
            "text/plain": [
              "<Figure size 432x288 with 1 Axes>"
            ]
          },
          "metadata": {
            "tags": [],
            "needs_background": "light"
          }
        }
      ]
    },
    {
      "cell_type": "code",
      "metadata": {
        "colab": {
          "base_uri": "https://localhost:8080/",
          "height": 279
        },
        "id": "jNW8kHg97Mus",
        "outputId": "1c7cde33-fdf0-47fa-b34a-15a687fce6b4"
      },
      "source": [
        "from sklearn.metrics import plot_roc_curve\r\n",
        "plot_roc_curve(xgb, x_test, y_test);"
      ],
      "execution_count": 51,
      "outputs": [
        {
          "output_type": "display_data",
          "data": {
            "image/png": "[encoded data removed]",
            "text/plain": [
              "<Figure size 432x288 with 1 Axes>"
            ]
          },
          "metadata": {
            "tags": [],
            "needs_background": "light"
          }
        }
      ]
    },
    {
      "cell_type": "code",
      "metadata": {
        "id": "laHafVpl7WDy",
        "colab": {
          "base_uri": "https://localhost:8080/"
        },
        "outputId": "bdc9b757-4bc4-4c30-e2ca-2af17fce9796"
      },
      "source": [
        "# get the feature importace\r\n",
        "importance = xgb.feature_importances_\r\n",
        "importance"
      ],
      "execution_count": 52,
      "outputs": [
        {
          "output_type": "execute_result",
          "data": {
            "text/plain": [
              "array([0.13006476, 0.19502418, 0.20186852, 0.11131649, 0.2717044 ,\n",
              "       0.05570979, 0.        , 0.        , 0.03431185], dtype=float32)"
            ]
          },
          "metadata": {
            "tags": []
          },
          "execution_count": 52
        }
      ]
    },
    {
      "cell_type": "code",
      "metadata": {
        "colab": {
          "base_uri": "https://localhost:8080/"
        },
        "id": "2cwcD_xYKiOL",
        "outputId": "8496b0e3-5680-499e-8c67-344ed986c41c"
      },
      "source": [
        "help(pd.concat)"
      ],
      "execution_count": 71,
      "outputs": [
        {
          "output_type": "stream",
          "text": [
            "Help on function concat in module pandas.core.reshape.concat:\n",
            "\n",
            "concat(objs: Union[Iterable[~FrameOrSeries], Mapping[Union[Hashable, NoneType], ~FrameOrSeries]], axis=0, join='outer', ignore_index: bool = False, keys=None, levels=None, names=None, verify_integrity: bool = False, sort: bool = False, copy: bool = True) -> Union[ForwardRef('DataFrame'), ForwardRef('Series')]\n",
            "    Concatenate pandas objects along a particular axis with optional set logic\n",
            "    along the other axes.\n",
            "    \n",
            "    Can also add a layer of hierarchical indexing on the concatenation axis,\n",
            "    which may be useful if the labels are the same (or overlapping) on\n",
            "    the passed axis number.\n",
            "    \n",
            "    Parameters\n",
            "    ----------\n",
            "    objs : a sequence or mapping of Series or DataFrame objects\n",
            "        If a mapping is passed, the sorted keys will be used as the `keys`\n",
            "        argument, unless it is passed, in which case the values will be\n",
            "        selected (see below). Any None objects will be dropped silently unless\n",
            "        they are all None in which case a ValueError will be raised.\n",
            "    axis : {0/'index', 1/'columns'}, default 0\n",
            "        The axis to concatenate along.\n",
            "    join : {'inner', 'outer'}, default 'outer'\n",
            "        How to handle indexes on other axis (or axes).\n",
            "    ignore_index : bool, default False\n",
            "        If True, do not use the index values along the concatenation axis. The\n",
            "        resulting axis will be labeled 0, ..., n - 1. This is useful if you are\n",
            "        concatenating objects where the concatenation axis does not have\n",
            "        meaningful indexing information. Note the index values on the other\n",
            "        axes are still respected in the join.\n",
            "    keys : sequence, default None\n",
            "        If multiple levels passed, should contain tuples. Construct\n",
            "        hierarchical index using the passed keys as the outermost level.\n",
            "    levels : list of sequences, default None\n",
            "        Specific levels (unique values) to use for constructing a\n",
            "        MultiIndex. Otherwise they will be inferred from the keys.\n",
            "    names : list, default None\n",
            "        Names for the levels in the resulting hierarchical index.\n",
            "    verify_integrity : bool, default False\n",
            "        Check whether the new concatenated axis contains duplicates. This can\n",
            "        be very expensive relative to the actual data concatenation.\n",
            "    sort : bool, default False\n",
            "        Sort non-concatenation axis if it is not already aligned when `join`\n",
            "        is 'outer'.\n",
            "        This has no effect when ``join='inner'``, which already preserves\n",
            "        the order of the non-concatenation axis.\n",
            "    \n",
            "        .. versionadded:: 0.23.0\n",
            "        .. versionchanged:: 1.0.0\n",
            "    \n",
            "           Changed to not sort by default.\n",
            "    \n",
            "    copy : bool, default True\n",
            "        If False, do not copy data unnecessarily.\n",
            "    \n",
            "    Returns\n",
            "    -------\n",
            "    object, type of objs\n",
            "        When concatenating all ``Series`` along the index (axis=0), a\n",
            "        ``Series`` is returned. When ``objs`` contains at least one\n",
            "        ``DataFrame``, a ``DataFrame`` is returned. When concatenating along\n",
            "        the columns (axis=1), a ``DataFrame`` is returned.\n",
            "    \n",
            "    See Also\n",
            "    --------\n",
            "    Series.append : Concatenate Series.\n",
            "    DataFrame.append : Concatenate DataFrames.\n",
            "    DataFrame.join : Join DataFrames using indexes.\n",
            "    DataFrame.merge : Merge DataFrames by indexes or columns.\n",
            "    \n",
            "    Notes\n",
            "    -----\n",
            "    The keys, levels, and names arguments are all optional.\n",
            "    \n",
            "    A walkthrough of how this method fits in with other tools for combining\n",
            "    pandas objects can be found `here\n",
            "    <https://pandas.pydata.org/pandas-docs/stable/user_guide/merging.html>`__.\n",
            "    \n",
            "    Examples\n",
            "    --------\n",
            "    Combine two ``Series``.\n",
            "    \n",
            "    >>> s1 = pd.Series(['a', 'b'])\n",
            "    >>> s2 = pd.Series(['c', 'd'])\n",
            "    >>> pd.concat([s1, s2])\n",
            "    0    a\n",
            "    1    b\n",
            "    0    c\n",
            "    1    d\n",
            "    dtype: object\n",
            "    \n",
            "    Clear the existing index and reset it in the result\n",
            "    by setting the ``ignore_index`` option to ``True``.\n",
            "    \n",
            "    >>> pd.concat([s1, s2], ignore_index=True)\n",
            "    0    a\n",
            "    1    b\n",
            "    2    c\n",
            "    3    d\n",
            "    dtype: object\n",
            "    \n",
            "    Add a hierarchical index at the outermost level of\n",
            "    the data with the ``keys`` option.\n",
            "    \n",
            "    >>> pd.concat([s1, s2], keys=['s1', 's2'])\n",
            "    s1  0    a\n",
            "        1    b\n",
            "    s2  0    c\n",
            "        1    d\n",
            "    dtype: object\n",
            "    \n",
            "    Label the index keys you create with the ``names`` option.\n",
            "    \n",
            "    >>> pd.concat([s1, s2], keys=['s1', 's2'],\n",
            "    ...           names=['Series name', 'Row ID'])\n",
            "    Series name  Row ID\n",
            "    s1           0         a\n",
            "                 1         b\n",
            "    s2           0         c\n",
            "                 1         d\n",
            "    dtype: object\n",
            "    \n",
            "    Combine two ``DataFrame`` objects with identical columns.\n",
            "    \n",
            "    >>> df1 = pd.DataFrame([['a', 1], ['b', 2]],\n",
            "    ...                    columns=['letter', 'number'])\n",
            "    >>> df1\n",
            "      letter  number\n",
            "    0      a       1\n",
            "    1      b       2\n",
            "    >>> df2 = pd.DataFrame([['c', 3], ['d', 4]],\n",
            "    ...                    columns=['letter', 'number'])\n",
            "    >>> df2\n",
            "      letter  number\n",
            "    0      c       3\n",
            "    1      d       4\n",
            "    >>> pd.concat([df1, df2])\n",
            "      letter  number\n",
            "    0      a       1\n",
            "    1      b       2\n",
            "    0      c       3\n",
            "    1      d       4\n",
            "    \n",
            "    Combine ``DataFrame`` objects with overlapping columns\n",
            "    and return everything. Columns outside the intersection will\n",
            "    be filled with ``NaN`` values.\n",
            "    \n",
            "    >>> df3 = pd.DataFrame([['c', 3, 'cat'], ['d', 4, 'dog']],\n",
            "    ...                    columns=['letter', 'number', 'animal'])\n",
            "    >>> df3\n",
            "      letter  number animal\n",
            "    0      c       3    cat\n",
            "    1      d       4    dog\n",
            "    >>> pd.concat([df1, df3], sort=False)\n",
            "      letter  number animal\n",
            "    0      a       1    NaN\n",
            "    1      b       2    NaN\n",
            "    0      c       3    cat\n",
            "    1      d       4    dog\n",
            "    \n",
            "    Combine ``DataFrame`` objects with overlapping columns\n",
            "    and return only those that are shared by passing ``inner`` to\n",
            "    the ``join`` keyword argument.\n",
            "    \n",
            "    >>> pd.concat([df1, df3], join=\"inner\")\n",
            "      letter  number\n",
            "    0      a       1\n",
            "    1      b       2\n",
            "    0      c       3\n",
            "    1      d       4\n",
            "    \n",
            "    Combine ``DataFrame`` objects horizontally along the x axis by\n",
            "    passing in ``axis=1``.\n",
            "    \n",
            "    >>> df4 = pd.DataFrame([['bird', 'polly'], ['monkey', 'george']],\n",
            "    ...                    columns=['animal', 'name'])\n",
            "    >>> pd.concat([df1, df4], axis=1)\n",
            "      letter  number  animal    name\n",
            "    0      a       1    bird   polly\n",
            "    1      b       2  monkey  george\n",
            "    \n",
            "    Prevent the result from including duplicate index values with the\n",
            "    ``verify_integrity`` option.\n",
            "    \n",
            "    >>> df5 = pd.DataFrame([1], index=['a'])\n",
            "    >>> df5\n",
            "       0\n",
            "    a  1\n",
            "    >>> df6 = pd.DataFrame([2], index=['a'])\n",
            "    >>> df6\n",
            "       0\n",
            "    a  2\n",
            "    >>> pd.concat([df5, df6], verify_integrity=True)\n",
            "    Traceback (most recent call last):\n",
            "        ...\n",
            "    ValueError: Indexes have overlapping values: ['a']\n",
            "\n"
          ],
          "name": "stdout"
        }
      ]
    },
    {
      "cell_type": "code",
      "metadata": {
        "colab": {
          "base_uri": "https://localhost:8080/",
          "height": 203
        },
        "id": "UHoe_wLQKP0t",
        "outputId": "e3f7e59e-5b73-45ce-b36b-877942b498e7"
      },
      "source": [
        "feature_importance = pd.DataFrame(importance, columns=['feature_importance'])\r\n",
        "feature_name = pd.DataFrame(x_train.columns, columns=['feature_name'])\r\n",
        "feature_importances = feature_name.join(feature_importance)\r\n",
        "feature_importances.sort_values(by='feature_importance', ascending=False)[:5]"
      ],
      "execution_count": 88,
      "outputs": [
        {
          "output_type": "execute_result",
          "data": {
            "text/html": [
              "<div>\n",
              "<style scoped>\n",
              "    .dataframe tbody tr th:only-of-type {\n",
              "        vertical-align: middle;\n",
              "    }\n",
              "\n",
              "    .dataframe tbody tr th {\n",
              "        vertical-align: top;\n",
              "    }\n",
              "\n",
              "    .dataframe thead th {\n",
              "        text-align: right;\n",
              "    }\n",
              "</style>\n",
              "<table border=\"1\" class=\"dataframe\">\n",
              "  <thead>\n",
              "    <tr style=\"text-align: right;\">\n",
              "      <th></th>\n",
              "      <th>feature_name</th>\n",
              "      <th>feature_importance</th>\n",
              "    </tr>\n",
              "  </thead>\n",
              "  <tbody>\n",
              "    <tr>\n",
              "      <th>4</th>\n",
              "      <td>channel</td>\n",
              "      <td>0.271704</td>\n",
              "    </tr>\n",
              "    <tr>\n",
              "      <th>2</th>\n",
              "      <td>device</td>\n",
              "      <td>0.201869</td>\n",
              "    </tr>\n",
              "    <tr>\n",
              "      <th>1</th>\n",
              "      <td>app</td>\n",
              "      <td>0.195024</td>\n",
              "    </tr>\n",
              "    <tr>\n",
              "      <th>0</th>\n",
              "      <td>ip</td>\n",
              "      <td>0.130065</td>\n",
              "    </tr>\n",
              "    <tr>\n",
              "      <th>3</th>\n",
              "      <td>os</td>\n",
              "      <td>0.111316</td>\n",
              "    </tr>\n",
              "  </tbody>\n",
              "</table>\n",
              "</div>"
            ],
            "text/plain": [
              "  feature_name  feature_importance\n",
              "4      channel            0.271704\n",
              "2       device            0.201869\n",
              "1          app            0.195024\n",
              "0           ip            0.130065\n",
              "3           os            0.111316"
            ]
          },
          "metadata": {
            "tags": []
          },
          "execution_count": 88
        }
      ]
    },
    {
      "cell_type": "code",
      "metadata": {
        "colab": {
          "base_uri": "https://localhost:8080/"
        },
        "id": "YmI-ZN4yQIUZ",
        "outputId": "698fee75-5cd5-4532-d9ce-0107d86b529d"
      },
      "source": [
        "for i, v in enumerate(importance):\r\n",
        "  print('Feature: %0d, Score: %.5f' % (i, v))"
      ],
      "execution_count": 55,
      "outputs": [
        {
          "output_type": "stream",
          "text": [
            "Feature: 0, Score: 0.13006\n",
            "Feature: 1, Score: 0.19502\n",
            "Feature: 2, Score: 0.20187\n",
            "Feature: 3, Score: 0.11132\n",
            "Feature: 4, Score: 0.27170\n",
            "Feature: 5, Score: 0.05571\n",
            "Feature: 6, Score: 0.00000\n",
            "Feature: 7, Score: 0.00000\n",
            "Feature: 8, Score: 0.03431\n"
          ],
          "name": "stdout"
        }
      ]
    },
    {
      "cell_type": "code",
      "metadata": {
        "colab": {
          "base_uri": "https://localhost:8080/"
        },
        "id": "T3WwynwQWP-Q",
        "outputId": "c78c2659-5c2a-43a6-b351-1c64b2de3c02"
      },
      "source": [
        "df.columns"
      ],
      "execution_count": 56,
      "outputs": [
        {
          "output_type": "execute_result",
          "data": {
            "text/plain": [
              "Index(['ip', 'app', 'device', 'os', 'channel', 'is_attributed', 'day_of_week',\n",
              "       'day_of_year', 'month', 'hour'],\n",
              "      dtype='object')"
            ]
          },
          "metadata": {
            "tags": []
          },
          "execution_count": 56
        }
      ]
    },
    {
      "cell_type": "code",
      "metadata": {
        "colab": {
          "base_uri": "https://localhost:8080/",
          "height": 265
        },
        "id": "Y-LJtoBsRQ3N",
        "outputId": "95df198b-bd36-41d1-f874-0465436c174b"
      },
      "source": [
        "plt.bar([x for x in range(len(importance))], importance);"
      ],
      "execution_count": 57,
      "outputs": [
        {
          "output_type": "display_data",
          "data": {
            "image/png": "[encoded data removed]",
            "text/plain": [
              "<Figure size 432x288 with 1 Axes>"
            ]
          },
          "metadata": {
            "tags": [],
            "needs_background": "light"
          }
        }
      ]
    },
    {
      "cell_type": "code",
      "metadata": {
        "id": "ClksAESrTrHh"
      },
      "source": [
        "from sklearn.linear_model import LogisticRegression\r\n",
        "logreg = LogisticRegression()"
      ],
      "execution_count": 58,
      "outputs": []
    },
    {
      "cell_type": "code",
      "metadata": {
        "id": "ygKfirMbUZf4"
      },
      "source": [
        "import warnings\r\n",
        "warnings.filterwarnings('ignore')"
      ],
      "execution_count": 59,
      "outputs": []
    },
    {
      "cell_type": "code",
      "metadata": {
        "id": "GEnrrDaySBBe"
      },
      "source": [
        "# here I am implementing the bagging classifier model\r\n",
        "bagcl = BaggingClassifier(base_estimator = logreg)\r\n",
        "bagcl.fit(x_train, y_train)\r\n",
        "pred = bagcl.predict(x_test)"
      ],
      "execution_count": 60,
      "outputs": []
    },
    {
      "cell_type": "code",
      "metadata": {
        "colab": {
          "base_uri": "https://localhost:8080/"
        },
        "id": "P8rNi1kHcJeD",
        "outputId": "9e4f28a4-44b4-47f5-9514-1f4c0ea2efbc"
      },
      "source": [
        "bagcl_acc_score = accuracy_score(y_test, pred)\r\n",
        "bagcl_acc_score"
      ],
      "execution_count": 61,
      "outputs": [
        {
          "output_type": "execute_result",
          "data": {
            "text/plain": [
              "0.9985339467165462"
            ]
          },
          "metadata": {
            "tags": []
          },
          "execution_count": 61
        }
      ]
    },
    {
      "cell_type": "code",
      "metadata": {
        "colab": {
          "base_uri": "https://localhost:8080/"
        },
        "id": "-v2egZVNTAkc",
        "outputId": "112e3bec-d2ed-4a1f-daf8-609edc73649c"
      },
      "source": [
        "y_proba = bagcl.predict_proba(x_test)\r\n",
        "y_proba = y_proba[:, 1]\r\n",
        "y_proba"
      ],
      "execution_count": 62,
      "outputs": [
        {
          "output_type": "execute_result",
          "data": {
            "text/plain": [
              "array([0.00078469, 0.00070083, 0.00053067, ..., 0.00056295, 0.0017285 ,\n",
              "       0.0005329 ])"
            ]
          },
          "metadata": {
            "tags": []
          },
          "execution_count": 62
        }
      ]
    },
    {
      "cell_type": "code",
      "metadata": {
        "colab": {
          "base_uri": "https://localhost:8080/"
        },
        "id": "pA-hZsMQUuPS",
        "outputId": "0bf7d17e-9f9d-447f-b58f-5a6a59efb009"
      },
      "source": [
        "bauc = roc_auc_score(y_test, y_proba)\r\n",
        "print('bagcl: ROC AUC  = %.3f'% bauc)"
      ],
      "execution_count": 63,
      "outputs": [
        {
          "output_type": "stream",
          "text": [
            "bagcl: ROC AUC  = 0.775\n"
          ],
          "name": "stdout"
        }
      ]
    },
    {
      "cell_type": "code",
      "metadata": {
        "colab": {
          "base_uri": "https://localhost:8080/",
          "height": 279
        },
        "id": "yASyJaWrIU_C",
        "outputId": "c0e3f5ad-d501-4408-8a35-0ca0e42e0404"
      },
      "source": [
        "plot_roc_curve(bagcl, x_test, y_test);"
      ],
      "execution_count": 64,
      "outputs": [
        {
          "output_type": "display_data",
          "data": {
            "image/png": "[encoded data removed]",
            "text/plain": [
              "<Figure size 432x288 with 1 Axes>"
            ]
          },
          "metadata": {
            "tags": [],
            "needs_background": "light"
          }
        }
      ]
    },
    {
      "cell_type": "code",
      "metadata": {
        "colab": {
          "base_uri": "https://localhost:8080/"
        },
        "id": "PJjELjs6Vhza",
        "outputId": "06ea5a4e-606a-4419-8d3b-b057ef1b285d"
      },
      "source": [
        "print('On the basis of the AUC ROC Score I would choose XGBoostClassifier(), \\n\\\r\n",
        "because it gave a score of well over %.3f that means that the area under the \\n\\\r\n",
        "curve is much larger compared to the score of BaggingClassifier() which was \\n\\\r\n",
        "only %.3f'%(auc, bauc))"
      ],
      "execution_count": 65,
      "outputs": [
        {
          "output_type": "stream",
          "text": [
            "On the basis of the AUC ROC Score I would choose XGBoostClassifier(), \n",
            "because it gave a score of well over 0.916 that means that the area under the \n",
            "curve is much larger compared to the score of BaggingClassifier() which was \n",
            "only 0.775\n"
          ],
          "name": "stdout"
        }
      ]
    },
    {
      "cell_type": "code",
      "metadata": {
        "colab": {
          "base_uri": "https://localhost:8080/"
        },
        "id": "iL21i1rycPcz",
        "outputId": "d53d2911-47fe-4819-c7f0-1f25365de544"
      },
      "source": [
        "print(f'The accuracy score of the XGBoost model is : {xgb_acc_score}')\r\n",
        "print(f'The accuracy score of the BaggingClassifier model is {bagcl_acc_score}')"
      ],
      "execution_count": 66,
      "outputs": [
        {
          "output_type": "stream",
          "text": [
            "The accuracy score of the XGBoost model is : 0.9986856074010414\n",
            "The accuracy score of the BaggingClassifier model is 0.9985339467165462\n"
          ],
          "name": "stdout"
        }
      ]
    }
  ]
}